{
 "cells": [
  {
   "cell_type": "code",
   "execution_count": 18,
   "metadata": {},
   "outputs": [
    {
     "name": "stdout",
     "output_type": "stream",
     "text": [
      "The rpy2.ipython extension is already loaded. To reload it, use:\n",
      "  %reload_ext rpy2.ipython\n"
     ]
    }
   ],
   "source": [
    "import pandas as pd\n",
    "import numpy as np\n",
    "import matplotlib.pyplot as plt\n",
    "from copy import deepcopy\n",
    "\n",
    "%load_ext rpy2.ipython"
   ]
  },
  {
   "cell_type": "code",
   "execution_count": 2,
   "metadata": {},
   "outputs": [],
   "source": [
    "%%R \n",
    "\n",
    "suppressPackageStartupMessages({\n",
    "    library(cowplot)\n",
    "    library(patchwork)\n",
    "    library(tidyverse)\n",
    "    theme_set(theme_cowplot())\n",
    "})\n",
    "\n",
    "options(dplyr.width = Inf)"
   ]
  },
  {
   "cell_type": "code",
   "execution_count": 2,
   "metadata": {},
   "outputs": [],
   "source": [
    "# Set seed with numpy\n",
    "np.random.seed(123)\n",
    "\n",
    "# Generate two example time-series of length 16\n",
    "TS_array = np.random.randn(16, 2)"
   ]
  },
  {
   "cell_type": "code",
   "execution_count": 4,
   "metadata": {},
   "outputs": [],
   "source": [
    "%%R -i TS_array\n",
    "\n",
    "# Line plots\n",
    "as.data.frame(TS_array) %>% \n",
    "    mutate(Timepoint = 1:16) %>%\n",
    "    rename(\"TS_1\" = V1, \"TS_2\" = V2) %>%\n",
    "    pivot_longer(cols = c(TS_1, TS_2), names_to = \"TS\", values_to = \"Value\") %>%\n",
    "    ggplot(aes(x = Timepoint, y = Value, color = TS)) +\n",
    "    geom_line(linewidth=1.25) +\n",
    "    facet_grid(TS ~ ., scales = \"free_y\") +\n",
    "    theme_void() +\n",
    "    scale_color_manual(values=c(\"#a663ce\", \"#67913c\")) +\n",
    "    theme(legend.position=\"none\",\n",
    "          axis.title=element_blank(),\n",
    "          strip.text = element_blank())\n",
    "ggsave(\"example_time_series_lines.svg\", width=3.5, height=1, units=\"in\", dpi=300)"
   ]
  },
  {
   "cell_type": "code",
   "execution_count": 6,
   "metadata": {},
   "outputs": [],
   "source": [
    "%%R -i TS_array\n",
    "\n",
    "# Take the first column of TS_array as a data.frame\n",
    "TS1_heatmap <- as.data.frame(TS_array) %>%\n",
    "    ggplot(aes(x = 1:16, y = 0, fill=V1)) +\n",
    "    geom_tile() +\n",
    "    theme_void() +\n",
    "    scale_fill_gradient(low=\"#E8D7F2\", high=\"#a663ce\") +\n",
    "    theme(legend.position=\"none\",\n",
    "          axis.title=element_blank(),\n",
    "          strip.text = element_blank())\n",
    "TS2_heatmap <- as.data.frame(TS_array) %>%\n",
    "    ggplot(aes(x = 1:16, y = 0, fill=V2)) +\n",
    "    geom_tile() +\n",
    "    theme_void() +\n",
    "    scale_fill_gradient(low=\"#D9E9C9\", high=\"#67913c\") +\n",
    "    theme(legend.position=\"none\",\n",
    "          axis.title=element_blank(),\n",
    "          strip.text = element_blank())\n",
    "\n",
    "TS1_heatmap / TS2_heatmap\n",
    "ggsave(\"example_time_series_vectors.svg\", width=3, height=2, units=\"in\", dpi=300)"
   ]
  },
  {
   "cell_type": "markdown",
   "metadata": {},
   "source": [
    "### Checking TLMI symmetry"
   ]
  },
  {
   "cell_type": "code",
   "execution_count": 4,
   "metadata": {},
   "outputs": [],
   "source": [
    "import numpy as np\n",
    "import random\n",
    "\n",
    "# Set seed with numpy\n",
    "np.random.seed(123)\n",
    "\n",
    "M = 2 # 5 independent processes\n",
    "T = 200 # 500 samples per process\n",
    "\n",
    "dataset = np.random.randn(M,T) # generate our multivariate time-series"
   ]
  },
  {
   "cell_type": "code",
   "execution_count": 17,
   "metadata": {},
   "outputs": [
    {
     "name": "stdout",
     "output_type": "stream",
     "text": [
      "Normalising the dataset...\n",
      "\n",
      "Normalising the dataset...\n",
      "\n",
      "TLMI(X->Y) = 0.00046859326511109665, TLMI(Y->X) = 0.0007813702420392038\n"
     ]
    }
   ],
   "source": [
    "from pyspi.statistics import infotheory\n",
    "TLMI = infotheory.TimeLaggedMutualInfo()\n",
    "\n",
    "X=dataset[0,:]\n",
    "Y=dataset[1,:]\n",
    "\n",
    "# z-score each array\n",
    "X_z = (X - np.mean(X)) / np.std(X)\n",
    "Y_z = (Y - np.mean(Y)) / np.std(Y)\n",
    "\n",
    "TLMI_XY = TLMI.bivariate(data=X, data2=Y)\n",
    "TLMI_YX = TLMI.bivariate(data=Y, data2=X)\n",
    "\n",
    "print(f\"TLMI(X->Y) = {TLMI_XY}, TLMI(Y->X) = {TLMI_YX}\")"
   ]
  },
  {
   "cell_type": "code",
   "execution_count": null,
   "metadata": {},
   "outputs": [],
   "source": [
    "from pyspi.calculator import Calculator\n",
    "calc_tlmi = Calculator(dataset=dataset, configfile=\"TLMI_config.yaml\") # instantiate the calculator object\n",
    "calc_tlmi.compute()\n",
    "print(calc_tlmi.table['tlmi_gaussian'])"
   ]
  },
  {
   "cell_type": "code",
   "execution_count": null,
   "metadata": {},
   "outputs": [],
   "source": [
    "calc = Calculator(dataset=dataset) # instantiate the calculator object\n",
    "calc.compute()\n",
    "\n",
    "calc_res = deepcopy(calc.table)"
   ]
  },
  {
   "cell_type": "code",
   "execution_count": 20,
   "metadata": {},
   "outputs": [
    {
     "name": "stderr",
     "output_type": "stream",
     "text": [
      "Columnar iteration over characters will be deprecated in future releases.\n",
      "In a future version of pandas all arguments of DataFrame.drop except for the argument 'labels' will be keyword-only.\n"
     ]
    }
   ],
   "source": [
    "calc_res = calc.table\n",
    "# Iterate over each SPI\n",
    "calc_res.columns = calc_res.columns.to_flat_index()\n",
    "\n",
    "# Convert index to column\n",
    "calc_res.reset_index(level=0, inplace=True)\n",
    "\n",
    "# Rename index as first brain region\n",
    "calc_res = calc_res.rename(columns={\"index\": \"TS_from\"})\n",
    "\n",
    "# Pivot data from wide to long\n",
    "calc_res_long = pd.melt(calc_res, id_vars=\"TS_from\")\n",
    "calc_res_long['SPI'], calc_res_long['TS_to'] = calc_res_long.variable.str\n",
    "\n",
    "# Remove variable column\n",
    "calc_res_long = calc_res_long.drop(\"variable\", 1)\n"
   ]
  },
  {
   "cell_type": "markdown",
   "metadata": {},
   "source": [
    "### 1. Are there any SPIs that are labelled as 'directed' but have the same values in both directions?\n",
    "\n",
    "### 2. How many SPIs have values that differ slightly when you call them manually versus through the calculator object?"
   ]
  }
 ],
 "metadata": {
  "kernelspec": {
   "display_name": "annie_env",
   "language": "python",
   "name": "python3"
  },
  "language_info": {
   "codemirror_mode": {
    "name": "ipython",
    "version": 3
   },
   "file_extension": ".py",
   "mimetype": "text/x-python",
   "name": "python",
   "nbconvert_exporter": "python",
   "pygments_lexer": "ipython3",
   "version": "3.9.19"
  }
 },
 "nbformat": 4,
 "nbformat_minor": 2
}
