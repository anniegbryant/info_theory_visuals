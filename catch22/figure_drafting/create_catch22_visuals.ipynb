{
 "cells": [
  {
   "cell_type": "code",
   "execution_count": 1,
   "metadata": {},
   "outputs": [],
   "source": [
    "import pandas as pd\n",
    "import numpy as np\n",
    "import seaborn as sns\n",
    "import matplotlib.pyplot as plt\n",
    "import statsmodels.stats.multitest\n",
    "\n",
    "# Add rpy2 to run R code chunks\n",
    "%load_ext rpy2.ipython"
   ]
  },
  {
   "cell_type": "code",
   "execution_count": 2,
   "metadata": {},
   "outputs": [],
   "source": [
    "%%R \n",
    "\n",
    "# Load packages needed for visualization in R\n",
    "suppressPackageStartupMessages({\n",
    "    library(broom)\n",
    "    library(cowplot)\n",
    "    library(ggpubr)\n",
    "    library(tidyverse)\n",
    "    library(viridis)\n",
    "\n",
    "    # Set cowplot theme\n",
    "    theme_set(theme_cowplot())\n",
    "})"
   ]
  },
  {
   "cell_type": "code",
   "execution_count": 11,
   "metadata": {},
   "outputs": [],
   "source": [
    "# load plot data\n",
    "plot_data = pd.read_csv('plot-data.csv')\n",
    "\n",
    "# Assign cumulative sum column\n",
    "plot_data['cumulative_sum'] = plot_data['y'].cumsum()"
   ]
  },
  {
   "cell_type": "code",
   "execution_count": 14,
   "metadata": {},
   "outputs": [],
   "source": [
    "%%R -i plot_data \n",
    "\n",
    "plot_data %>%\n",
    "    ggplot(data=., mapping=aes(x=x,y=cumulative_sum)) +\n",
    "    geom_line() +\n",
    "    theme_void()\n",
    "ggsave(\"cumulative_sum_for_self_affine.svg\", width=4, height=1, units=\"in\", dpi=300)"
   ]
  }
 ],
 "metadata": {
  "kernelspec": {
   "display_name": "annie_env",
   "language": "python",
   "name": "python3"
  },
  "language_info": {
   "codemirror_mode": {
    "name": "ipython",
    "version": 3
   },
   "file_extension": ".py",
   "mimetype": "text/x-python",
   "name": "python",
   "nbconvert_exporter": "python",
   "pygments_lexer": "ipython3",
   "version": "3.9.19"
  }
 },
 "nbformat": 4,
 "nbformat_minor": 2
}
