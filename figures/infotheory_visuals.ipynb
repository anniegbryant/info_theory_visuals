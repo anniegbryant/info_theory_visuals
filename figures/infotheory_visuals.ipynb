{
 "cells": [
  {
   "cell_type": "code",
   "execution_count": 1,
   "metadata": {},
   "outputs": [],
   "source": [
    "import pandas as pd\n",
    "import numpy as np\n",
    "import matplotlib.pyplot as plt\n",
    "from copy import deepcopy\n",
    "\n",
    "%load_ext rpy2.ipython"
   ]
  },
  {
   "cell_type": "code",
   "execution_count": 2,
   "metadata": {},
   "outputs": [],
   "source": [
    "%%R \n",
    "\n",
    "suppressPackageStartupMessages({\n",
    "    library(cowplot)\n",
    "    library(patchwork)\n",
    "    library(tidyverse)\n",
    "    theme_set(theme_cowplot())\n",
    "})\n",
    "\n",
    "options(dplyr.width = Inf)"
   ]
  },
  {
   "cell_type": "code",
   "execution_count": 3,
   "metadata": {},
   "outputs": [],
   "source": [
    "# Set seed with numpy\n",
    "np.random.seed(123)\n",
    "\n",
    "# Generate two example time-series of length 16\n",
    "TS_array = np.random.randn(16, 2)"
   ]
  },
  {
   "cell_type": "code",
   "execution_count": 4,
   "metadata": {},
   "outputs": [],
   "source": [
    "%%R -i TS_array\n",
    "\n",
    "# Line plots\n",
    "as.data.frame(TS_array) %>% \n",
    "    mutate(Timepoint = 1:16) %>%\n",
    "    rename(\"TS_1\" = V1, \"TS_2\" = V2) %>%\n",
    "    pivot_longer(cols = c(TS_1, TS_2), names_to = \"TS\", values_to = \"Value\") %>%\n",
    "    ggplot(aes(x = Timepoint, y = Value, color = TS)) +\n",
    "    geom_line(linewidth=1.25) +\n",
    "    facet_grid(TS ~ ., scales = \"free_y\") +\n",
    "    theme_void() +\n",
    "    scale_color_manual(values=c(\"#a663ce\", \"#67913c\")) +\n",
    "    theme(legend.position=\"none\",\n",
    "          axis.title=element_blank(),\n",
    "          strip.text = element_blank())\n",
    "ggsave(\"example_time_series_lines.svg\", width=3.5, height=1, units=\"in\", dpi=300)"
   ]
  },
  {
   "cell_type": "code",
   "execution_count": 5,
   "metadata": {},
   "outputs": [],
   "source": [
    "%%R -i TS_array\n",
    "\n",
    "# Take the first column of TS_array as a data.frame\n",
    "TS1_heatmap <- as.data.frame(TS_array) %>%\n",
    "    ggplot(aes(x = 1:16, y = 0, fill=V1)) +\n",
    "    geom_tile() +\n",
    "    theme_void() +\n",
    "    scale_fill_gradient(low=\"#E8D7F2\", high=\"#a663ce\") +\n",
    "    theme(legend.position=\"none\",\n",
    "          axis.title=element_blank(),\n",
    "          strip.text = element_blank())\n",
    "TS2_heatmap <- as.data.frame(TS_array) %>%\n",
    "    ggplot(aes(x = 1:16, y = 0, fill=V2)) +\n",
    "    geom_tile() +\n",
    "    theme_void() +\n",
    "    scale_fill_gradient(low=\"#D9E9C9\", high=\"#67913c\") +\n",
    "    theme(legend.position=\"none\",\n",
    "          axis.title=element_blank(),\n",
    "          strip.text = element_blank())\n",
    "\n",
    "TS1_heatmap / TS2_heatmap\n",
    "ggsave(\"example_time_series_vectors.svg\", width=3, height=2, units=\"in\", dpi=300)"
   ]
  },
  {
   "cell_type": "markdown",
   "metadata": {},
   "source": [
    "### Checking TLMI symmetry"
   ]
  },
  {
   "cell_type": "code",
   "execution_count": 6,
   "metadata": {},
   "outputs": [],
   "source": [
    "import numpy as np\n",
    "import random\n",
    "\n",
    "# Set seed with numpy\n",
    "np.random.seed(123)\n",
    "\n",
    "M = 2 # 5 independent processes\n",
    "T = 200 # 500 samples per process\n",
    "\n",
    "dataset = np.random.randn(M,T) # generate our multivariate time-series"
   ]
  },
  {
   "cell_type": "code",
   "execution_count": 7,
   "metadata": {},
   "outputs": [
    {
     "ename": "RuntimeError",
     "evalue": "Unable to import 'infodynamics.measures.continuous.gaussian' without JVM",
     "output_type": "error",
     "traceback": [
      "\u001b[0;31m---------------------------------------------------------------------------\u001b[0m",
      "\u001b[0;31mRuntimeError\u001b[0m                              Traceback (most recent call last)",
      "Cell \u001b[0;32mIn[7], line 2\u001b[0m\n\u001b[1;32m      1\u001b[0m \u001b[38;5;28;01mfrom\u001b[39;00m\u001b[38;5;250m \u001b[39m\u001b[38;5;21;01mpyspi\u001b[39;00m\u001b[38;5;21;01m.\u001b[39;00m\u001b[38;5;21;01mstatistics\u001b[39;00m\u001b[38;5;250m \u001b[39m\u001b[38;5;28;01mimport\u001b[39;00m infotheory\n\u001b[0;32m----> 2\u001b[0m TLMI \u001b[38;5;241m=\u001b[39m \u001b[43minfotheory\u001b[49m\u001b[38;5;241;43m.\u001b[39;49m\u001b[43mTimeLaggedMutualInfo\u001b[49m\u001b[43m(\u001b[49m\u001b[43m)\u001b[49m\n\u001b[1;32m      4\u001b[0m X\u001b[38;5;241m=\u001b[39mdataset[\u001b[38;5;241m0\u001b[39m,:]\n\u001b[1;32m      5\u001b[0m Y\u001b[38;5;241m=\u001b[39mdataset[\u001b[38;5;241m1\u001b[39m,:]\n",
      "File \u001b[0;32m~/miniforge3/envs/annie_env/lib/python3.9/site-packages/pyspi/statistics/infotheory.py:309\u001b[0m, in \u001b[0;36mTimeLaggedMutualInfo.__init__\u001b[0;34m(self, **kwargs)\u001b[0m\n\u001b[1;32m    308\u001b[0m \u001b[38;5;28;01mdef\u001b[39;00m\u001b[38;5;250m \u001b[39m\u001b[38;5;21m__init__\u001b[39m(\u001b[38;5;28mself\u001b[39m, \u001b[38;5;241m*\u001b[39m\u001b[38;5;241m*\u001b[39mkwargs):\n\u001b[0;32m--> 309\u001b[0m     \u001b[38;5;28;43msuper\u001b[39;49m\u001b[43m(\u001b[49m\u001b[43m)\u001b[49m\u001b[38;5;241;43m.\u001b[39;49m\u001b[38;5;21;43m__init__\u001b[39;49m\u001b[43m(\u001b[49m\u001b[38;5;241;43m*\u001b[39;49m\u001b[38;5;241;43m*\u001b[39;49m\u001b[43mkwargs\u001b[49m\u001b[43m)\u001b[49m\n\u001b[1;32m    310\u001b[0m     \u001b[38;5;28mself\u001b[39m\u001b[38;5;241m.\u001b[39m_calc \u001b[38;5;241m=\u001b[39m \u001b[38;5;28mself\u001b[39m\u001b[38;5;241m.\u001b[39m_getcalc(\u001b[38;5;124m\"\u001b[39m\u001b[38;5;124mMutualInfo\u001b[39m\u001b[38;5;124m\"\u001b[39m)\n",
      "File \u001b[0;32m~/miniforge3/envs/annie_env/lib/python3.9/site-packages/pyspi/statistics/infotheory.py:53\u001b[0m, in \u001b[0;36mJIDTBase.__init__\u001b[0;34m(self, estimator, kernel_width, prop_k, dyn_corr_excl)\u001b[0m\n\u001b[1;32m     51\u001b[0m \u001b[38;5;28mself\u001b[39m\u001b[38;5;241m.\u001b[39m_prop_k \u001b[38;5;241m=\u001b[39m prop_k\n\u001b[1;32m     52\u001b[0m \u001b[38;5;28mself\u001b[39m\u001b[38;5;241m.\u001b[39m_dyn_corr_excl \u001b[38;5;241m=\u001b[39m dyn_corr_excl\n\u001b[0;32m---> 53\u001b[0m \u001b[38;5;28mself\u001b[39m\u001b[38;5;241m.\u001b[39m_entropy_calc \u001b[38;5;241m=\u001b[39m \u001b[38;5;28;43mself\u001b[39;49m\u001b[38;5;241;43m.\u001b[39;49m\u001b[43m_getcalc\u001b[49m\u001b[43m(\u001b[49m\u001b[38;5;124;43m\"\u001b[39;49m\u001b[38;5;124;43mentropy\u001b[39;49m\u001b[38;5;124;43m\"\u001b[39;49m\u001b[43m)\u001b[49m\n\u001b[1;32m     55\u001b[0m \u001b[38;5;28mself\u001b[39m\u001b[38;5;241m.\u001b[39midentifier \u001b[38;5;241m=\u001b[39m \u001b[38;5;28mself\u001b[39m\u001b[38;5;241m.\u001b[39midentifier \u001b[38;5;241m+\u001b[39m \u001b[38;5;124m\"\u001b[39m\u001b[38;5;124m_\u001b[39m\u001b[38;5;124m\"\u001b[39m \u001b[38;5;241m+\u001b[39m estimator\n\u001b[1;32m     56\u001b[0m \u001b[38;5;28;01mif\u001b[39;00m estimator \u001b[38;5;241m==\u001b[39m \u001b[38;5;124m\"\u001b[39m\u001b[38;5;124mkraskov\u001b[39m\u001b[38;5;124m\"\u001b[39m:\n",
      "File \u001b[0;32m~/miniforge3/envs/annie_env/lib/python3.9/site-packages/pyspi/statistics/infotheory.py:129\u001b[0m, in \u001b[0;36mJIDTBase._getcalc\u001b[0;34m(self, measure)\u001b[0m\n\u001b[1;32m    125\u001b[0m         calc \u001b[38;5;241m=\u001b[39m (\n\u001b[1;32m    126\u001b[0m             \u001b[38;5;28mself\u001b[39m\u001b[38;5;241m.\u001b[39m_base_class\u001b[38;5;241m.\u001b[39mkozachenko\u001b[38;5;241m.\u001b[39mEntropyCalculatorMultiVariateKozachenko()\n\u001b[1;32m    127\u001b[0m         )\n\u001b[1;32m    128\u001b[0m     \u001b[38;5;28;01melse\u001b[39;00m:\n\u001b[0;32m--> 129\u001b[0m         calc \u001b[38;5;241m=\u001b[39m \u001b[38;5;28;43mself\u001b[39;49m\u001b[38;5;241;43m.\u001b[39;49m\u001b[43m_base_class\u001b[49m\u001b[38;5;241;43m.\u001b[39;49m\u001b[43mgaussian\u001b[49m\u001b[38;5;241m.\u001b[39mEntropyCalculatorMultiVariateGaussian()\n\u001b[1;32m    130\u001b[0m \u001b[38;5;28;01melif\u001b[39;00m measure \u001b[38;5;241m==\u001b[39m \u001b[38;5;124m\"\u001b[39m\u001b[38;5;124mMutualInfo\u001b[39m\u001b[38;5;124m\"\u001b[39m:\n\u001b[1;32m    131\u001b[0m     \u001b[38;5;28;01mif\u001b[39;00m \u001b[38;5;28mself\u001b[39m\u001b[38;5;241m.\u001b[39m_estimator \u001b[38;5;241m==\u001b[39m \u001b[38;5;124m\"\u001b[39m\u001b[38;5;124mkernel\u001b[39m\u001b[38;5;124m\"\u001b[39m:\n",
      "\u001b[0;31mRuntimeError\u001b[0m: Unable to import 'infodynamics.measures.continuous.gaussian' without JVM"
     ]
    }
   ],
   "source": [
    "from pyspi.statistics import infotheory\n",
    "TLMI = infotheory.TimeLaggedMutualInfo()\n",
    "\n",
    "X=dataset[0,:]\n",
    "Y=dataset[1,:]\n",
    "\n",
    "# z-score each array\n",
    "X_z = (X - np.mean(X)) / np.std(X)\n",
    "Y_z = (Y - np.mean(Y)) / np.std(Y)\n",
    "\n",
    "TLMI_XY = TLMI.bivariate(data=X, data2=Y)\n",
    "TLMI_YX = TLMI.bivariate(data=Y, data2=X)\n",
    "\n",
    "print(f\"TLMI(X->Y) = {TLMI_XY}, TLMI(Y->X) = {TLMI_YX}\")"
   ]
  },
  {
   "cell_type": "code",
   "execution_count": null,
   "metadata": {},
   "outputs": [],
   "source": [
    "from pyspi.calculator import Calculator\n",
    "calc_tlmi = Calculator(dataset=dataset, configfile=\"TLMI_config.yaml\") # instantiate the calculator object\n",
    "calc_tlmi.compute()\n",
    "print(calc_tlmi.table['tlmi_gaussian'])"
   ]
  },
  {
   "cell_type": "code",
   "execution_count": null,
   "metadata": {},
   "outputs": [],
   "source": [
    "calc = Calculator(dataset=dataset) # instantiate the calculator object\n",
    "calc.compute()\n",
    "\n",
    "calc_res = deepcopy(calc.table)"
   ]
  },
  {
   "cell_type": "code",
   "execution_count": 20,
   "metadata": {},
   "outputs": [
    {
     "name": "stderr",
     "output_type": "stream",
     "text": [
      "Columnar iteration over characters will be deprecated in future releases.\n",
      "In a future version of pandas all arguments of DataFrame.drop except for the argument 'labels' will be keyword-only.\n"
     ]
    }
   ],
   "source": [
    "calc_res = calc.table\n",
    "# Iterate over each SPI\n",
    "calc_res.columns = calc_res.columns.to_flat_index()\n",
    "\n",
    "# Convert index to column\n",
    "calc_res.reset_index(level=0, inplace=True)\n",
    "\n",
    "# Rename index as first brain region\n",
    "calc_res = calc_res.rename(columns={\"index\": \"TS_from\"})\n",
    "\n",
    "# Pivot data from wide to long\n",
    "calc_res_long = pd.melt(calc_res, id_vars=\"TS_from\")\n",
    "calc_res_long['SPI'], calc_res_long['TS_to'] = calc_res_long.variable.str\n",
    "\n",
    "# Remove variable column\n",
    "calc_res_long = calc_res_long.drop(\"variable\", 1)\n"
   ]
  },
  {
   "cell_type": "markdown",
   "metadata": {},
   "source": [
    "### Joint entropy visualizations"
   ]
  },
  {
   "cell_type": "code",
   "execution_count": 28,
   "metadata": {},
   "outputs": [
    {
     "data": {
      "image/png": "[encoded data removed]",
      "text/plain": [
       "<Figure size 600x600 with 3 Axes>"
      ]
     },
     "metadata": {},
     "output_type": "display_data"
    }
   ],
   "source": [
    "import numpy as np\n",
    "import matplotlib.pyplot as plt\n",
    "import seaborn as sns\n",
    "\n",
    "# Example data\n",
    "x = np.random.normal(0, 1, 1000)\n",
    "y = x + np.random.normal(0, 0.5, 1000)\n",
    "\n",
    "# Create the jointplot\n",
    "g = sns.jointplot(\n",
    "    x=x, y=y, kind=\"hex\", marginal_kws=dict(fill=True), color=\"gray\"\n",
    ")\n",
    "\n",
    "# Clear default histograms and replace them\n",
    "g.ax_marg_x.clear()\n",
    "g.ax_marg_x.hist(x, bins=20, color=\"#a663ce\", edgecolor='black')\n",
    "g.ax_marg_x.set_xticks([])  # Remove x-axis ticks\n",
    "g.ax_marg_x.set_yticks([])  # Remove y-axis ticks\n",
    "g.ax_marg_x.tick_params(labelbottom=False, labelleft=False)  # Remove text labels\n",
    "\n",
    "g.ax_marg_y.clear()\n",
    "g.ax_marg_y.hist(y, bins=20, color=\"#66923c\", edgecolor='black', orientation=\"horizontal\")\n",
    "g.ax_marg_y.set_yticks([])  # Remove y-axis ticks\n",
    "g.ax_marg_y.set_xticks([])  # Remove x-axis ticks\n",
    "g.ax_marg_y.tick_params(labelbottom=False, labelleft=False)  # Remove text labels\n",
    "\n",
    "# Add titles or labels if needed\n",
    "g.ax_joint.set_xlabel(\"X\")  # Retain bottom x-axis label\n",
    "g.ax_joint.set_ylabel(\"Y\")  # Retain left y-axis label\n",
    "# g.fig.suptitle(\"Jointplot with Custom Marginals\", y=1.03)  # Adjust title position\n",
    "\n",
    "# Save the plot as an SVG\n",
    "plt.savefig(\"figure_drafting/JE_joint_dist.svg\", format=\"svg\")\n",
    "\n",
    "# Show the plot\n",
    "plt.show()"
   ]
  },
  {
   "cell_type": "code",
   "execution_count": null,
   "metadata": {},
   "outputs": [],
   "source": [
    "# Figure to distinguish the three axes\n",
    "# Simulate a normal distribution"
   ]
  },
  {
   "cell_type": "code",
   "execution_count": 39,
   "metadata": {},
   "outputs": [],
   "source": [
    "%%R \n",
    "\n",
    "# Simulate a normal distribution\n",
    "set.seed(129)\n",
    "x <- rnorm(25, mean=0, sd=0.25)\n",
    "y <- rnorm(25, mean=0, sd=0.25)\n",
    "z <- rnorm(25, mean=0, sd=0.25)\n",
    "\n",
    "color_max <- \"#c51a7b\"\n",
    "\n",
    "data.frame(time=1:25, x=x, y=y, z=z) %>%\n",
    "    pivot_longer(cols=c(x, y, z), names_to=\"sim_name\", values_to=\"value\") %>%\n",
    "    ggplot(aes(x = time, y=value)) +\n",
    "    geom_line(aes(color=sim_name), size=0.5) +\n",
    "    scale_color_manual(values=c(\"#c51a7b\", \"#fa6a84\", \"#6c6d9c\")) +\n",
    "    theme_void() +\n",
    "    theme(legend.position=\"none\")\n",
    "ggsave(\"figure_drafting/example_series_lines.svg\", width=5, height=1, units=\"in\", dpi=300)\n",
    "\n",
    "\n",
    "data.frame(x=1:25, sims = x) %>%\n",
    "    ggplot(aes(x = x, y=0)) +\n",
    "    geom_tile(aes(fill = sims)) +\n",
    "    scale_fill_gradient(low=\"white\", high=\"#c51a7b\") +\n",
    "    theme_void() +\n",
    "    theme(legend.position=\"none\")\n",
    "ggsave(\"figure_drafting/example_series_vector_univariate.svg\", width=5, height=0.3, units=\"in\", dpi=300)\n",
    "\n",
    "# Density plot\n",
    "data.frame(x=rnorm(1000)) %>%\n",
    "    ggplot(aes(x = x)) +\n",
    "    geom_density(fill=\"#c51a7b\") +\n",
    "    theme_void() +\n",
    "    theme(legend.position=\"none\")\n",
    "ggsave(\"figure_drafting/example_series_vector_univariate_density.svg\", width=4, height=2, units=\"in\", dpi=300)\n",
    "\n",
    "\n",
    "y_plot <- data.frame(times=1:25, value=y) %>%\n",
    "    ggplot(aes(x = times, y=0)) +\n",
    "    geom_tile(aes(fill = value)) +\n",
    "    scale_fill_gradient(low=\"white\", high=\"#fa6a84\") +\n",
    "    theme_void() +\n",
    "    theme(legend.position=\"none\")\n",
    "z_plot <- data.frame(times=1:25, value=z) %>%\n",
    "    ggplot(aes(x = times, y=0)) +\n",
    "    geom_tile(aes(fill = value)) +\n",
    "    scale_fill_gradient(low=\"white\", high=\"#6c6d9c\") +\n",
    "    theme_void() +\n",
    "    theme(legend.position=\"none\")\n",
    "wrap_plots(y_plot, z_plot, nrow=2)\n",
    "ggsave(\"figure_drafting/example_series_vector_bivariate.svg\", width=5, height=0.8, units=\"in\", dpi=300)"
   ]
  },
  {
   "cell_type": "code",
   "execution_count": 21,
   "metadata": {},
   "outputs": [],
   "source": [
    "%%R \n",
    "\n",
    "# Simulate a normal distribution\n",
    "set.seed(127)\n",
    "sims <- runif(25)\n",
    "\n",
    "color_max <- \"#c51a7b\"\n",
    "\n",
    "data.frame(x=1:25, sims = sims) %>%\n",
    "    ggplot(aes(x = x, y=0)) +\n",
    "    geom_tile(aes(fill = sims)) +\n",
    "    scale_fill_gradient(low=\"white\", high=\"#c51a7b\") +\n",
    "    theme_void() +\n",
    "    theme(legend.position=\"none\")\n",
    "ggsave(\"figure_drafting/example_series_vector_univariate.svg\", width=5, height=0.3, units=\"in\", dpi=300)"
   ]
  }
 ],
 "metadata": {
  "kernelspec": {
   "display_name": "annie_env",
   "language": "python",
   "name": "python3"
  },
  "language_info": {
   "codemirror_mode": {
    "name": "ipython",
    "version": 3
   },
   "file_extension": ".py",
   "mimetype": "text/x-python",
   "name": "python",
   "nbconvert_exporter": "python",
   "pygments_lexer": "ipython3",
   "version": "3.9.21"
  }
 },
 "nbformat": 4,
 "nbformat_minor": 2
}
